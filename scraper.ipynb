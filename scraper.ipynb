{
 "cells": [
  {
   "cell_type": "markdown",
   "metadata": {},
   "source": [
    "# Automated Web Scraping and Data Processing Workflow"
   ]
  },
  {
   "cell_type": "markdown",
   "metadata": {},
   "source": [
    "### Imports\n",
    "1. <u>**Selenium**</u> - is a web automation tool used to interact with web browsers, enabling tasks such as automated testing and web scraping.\n",
    "2. <u>**BeautifulSoup**</u> - is a Python library used for parsing HTML and XML documents, providing easy methods for navigating, searching, and manipulating their contents.\n",
    "3. <u>**JSON**</u> - is built-in library, it provides functionalities for encoding and decoding JSON data, facilitating easy conversion between JSON strings and Python data structures."
   ]
  },
  {
   "cell_type": "code",
   "execution_count": 13,
   "metadata": {},
   "outputs": [],
   "source": [
    "from selenium import webdriver\n",
    "from selenium.webdriver.common.by import By\n",
    "from selenium.webdriver.firefox.service import Service as FirefoxService\n",
    "from selenium.webdriver.firefox.options import Options\n",
    "from selenium.webdriver.support.ui import WebDriverWait\n",
    "from selenium.webdriver.support import expected_conditions as EC\n",
    "from bs4 import BeautifulSoup\n",
    "import json"
   ]
  },
  {
   "cell_type": "markdown",
   "metadata": {},
   "source": [
    "### GeckoDriver Setup and WebDriver Initialization\n",
    "1. Define the path to the GeckoDriver executable (geckodriver.exe) required for automating Firefox.\n",
    "2. Configure Browser Options: Enable headless mode in Firefox using Selenium options, meaning the browser will run without a graphical user interface.\n",
    "3. Configure Firefox Service: Create a Firefox service instance with the specified GeckoDriver path.\n",
    "4. Initialize WebDriver: Create a new instance of the Firefox WebDriver with the configured options and service.\n",
    "5. Navigate to URL in the headless Firefox browser.\n",
    "6. Setup WebDriverWait: Create a WebDriverWait object with a timeout of 10 seconds to wait for elements to become available on the webpage before proceeding with the script execution."
   ]
  },
  {
   "cell_type": "code",
   "execution_count": 14,
   "metadata": {},
   "outputs": [],
   "source": [
    "geckodriver_path = '.\\geckodriver.exe' \n",
    "\n",
    "options = Options()\n",
    "options.headless = True\n",
    "\n",
    "firefox_service = FirefoxService(geckodriver_path)\n",
    "\n",
    "driver = webdriver.Firefox(options=options, service=firefox_service)\n",
    "\n",
    "url = 'https://www.noe.gv.at/wasserstand/#/de/Messstellen/Details/207407/DurchflussPrognose/48Stunden'\n",
    "driver.get(url)\n",
    "\n",
    "wait = WebDriverWait(driver, 1)"
   ]
  },
  {
   "cell_type": "markdown",
   "metadata": {},
   "source": [
    "### Fetching and Parsing Table Data\n",
    "1. Wait for Table Element: Use WebDriverWait to wait until a table element with the class name 'tabelle' is present on the webpage.\n",
    "2. Get Inner HTML: Retrieve the inner HTML content of the table element.\n",
    "3. Parse HTML Content: Use BeautifulSoup to parse the HTML content of the table and create a BeautifulSoup object (soup) for further processing."
   ]
  },
  {
   "cell_type": "code",
   "execution_count": 15,
   "metadata": {},
   "outputs": [],
   "source": [
    "table = wait.until(EC.presence_of_element_located((By.CLASS_NAME, 'tabelle')))\n",
    "\n",
    "table_html = table.get_attribute('innerHTML')\n",
    "\n",
    "soup = BeautifulSoup(table_html, 'html.parser')"
   ]
  },
  {
   "cell_type": "markdown",
   "metadata": {},
   "source": [
    "### Extraction and Structuring of Tabular Data\n",
    "1. Data Extraction Loop: Iterate through each row (tr) in the parsed HTML content using BeautifulSoup.\n",
    "2. Column Extraction: For each row, extract all columns (td) within it.\n",
    "3. Data Validation: Check if the number of columns is 2 before proceeding.\n",
    "4. Retrieve Text Content: Get the text content of the first and second columns.\n",
    "5. Data Structuring: Append a dictionary to the 'data' list, where keys are 'column1' and 'column2', and values are the respective text content from the columns."
   ]
  },
  {
   "cell_type": "code",
   "execution_count": 16,
   "metadata": {},
   "outputs": [],
   "source": [
    "data = []\n",
    "for row in soup.find_all('tr'):\n",
    "    columns = row.find_all('td')\n",
    "    if len(columns) == 2: # Number 2 because we are looking for table with this exact size\n",
    "        column1 = columns[0].get_text(strip=True)\n",
    "        column2 = columns[1].get_text(strip=True)\n",
    "        data.append({'column1': column1, 'column2': column2})"
   ]
  },
  {
   "cell_type": "markdown",
   "metadata": {},
   "source": [
    "### Serialization of Data to JSON File\n",
    "1. Output File Definition: Specify the name of the output JSON file as 'data.json'.\n",
    "2. JSON File Creation: Open the output JSON file in write mode ('w') using a context manager (with statement).\n",
    "3. Data Serialization: Serialize the 'data' list containing dictionaries into JSON format using the json.dump() function. The indent=4 argument ensures that the JSON data is formatted with an indentation of four spaces for readability.\n",
    "4. File Closure: Automatically close the JSON file after writing the data.\n",
    "5. Confirmation Message: Print a message indicating that the data has been saved as 'data.json' in the current directory."
   ]
  },
  {
   "cell_type": "code",
   "execution_count": 17,
   "metadata": {},
   "outputs": [
    {
     "name": "stdout",
     "output_type": "stream",
     "text": [
      "Data saved as data.json in the current directory\n"
     ]
    }
   ],
   "source": [
    "output_file = 'data.json'\n",
    "with open(output_file, 'w') as json_file:\n",
    "    json.dump(data, json_file, indent=4)\n",
    "\n",
    "print(\"Data saved as data.json in the current directory\")"
   ]
  },
  {
   "cell_type": "markdown",
   "metadata": {},
   "source": [
    "### Cleanup and Resource Release"
   ]
  },
  {
   "cell_type": "code",
   "execution_count": 18,
   "metadata": {},
   "outputs": [],
   "source": [
    "driver.quit()"
   ]
  }
 ],
 "metadata": {
  "kernelspec": {
   "display_name": "venv",
   "language": "python",
   "name": "python3"
  },
  "language_info": {
   "codemirror_mode": {
    "name": "ipython",
    "version": 3
   },
   "file_extension": ".py",
   "mimetype": "text/x-python",
   "name": "python",
   "nbconvert_exporter": "python",
   "pygments_lexer": "ipython3",
   "version": "3.11.0"
  }
 },
 "nbformat": 4,
 "nbformat_minor": 2
}
